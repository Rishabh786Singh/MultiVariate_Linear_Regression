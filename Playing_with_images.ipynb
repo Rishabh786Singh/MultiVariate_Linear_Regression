{
 "cells": [
  {
   "cell_type": "code",
   "execution_count": 1,
   "metadata": {},
   "outputs": [
    {
     "name": "stderr",
     "output_type": "stream",
     "text": [
      "E:\\New folder\\lib\\site-packages\\h5py\\__init__.py:34: FutureWarning: Conversion of the second argument of issubdtype from `float` to `np.floating` is deprecated. In future, it will be treated as `np.float64 == np.dtype(float).type`.\n",
      "  from ._conv import register_converters as _register_converters\n",
      "Using TensorFlow backend.\n"
     ]
    }
   ],
   "source": [
    "#CIFAR stands for Canadian Institute for Advance Research\n",
    "#we just use there dataset in which there are 10 classes present\n",
    "from keras.datasets import cifar10\n",
    "\n",
    "(x_train, y_train), (x_test, y_test) = cifar10.load_data()"
   ]
  },
  {
   "cell_type": "code",
   "execution_count": 2,
   "metadata": {
    "collapsed": true
   },
   "outputs": [],
   "source": [
    "#importing the important modules which we are going to use in\n",
    "import numpy as np\n",
    "import pandas as pd\n",
    "import matplotlib.pyplot as plt\n",
    "import random\n",
    "from IPython.display import clear_output#to remove previous result from display\n",
    "%matplotlib inline"
   ]
  },
  {
   "cell_type": "code",
   "execution_count": 72,
   "metadata": {},
   "outputs": [
    {
     "data": {
      "text/plain": [
       "<matplotlib.image.AxesImage at 0x2924dc200b8>"
      ]
     },
     "execution_count": 72,
     "metadata": {},
     "output_type": "execute_result"
    },
    {
     "data": {
      "image/png": "[encoded data removed]",
      "text/plain": [
       "<Figure size 432x288 with 1 Axes>"
      ]
     },
     "metadata": {},
     "output_type": "display_data"
    }
   ],
   "source": [
    "plt.imshow(x_train[7])#just to check particular row"
   ]
  },
  {
   "cell_type": "markdown",
   "metadata": {},
   "source": [
    "# Lets Understand our dataset"
   ]
  },
  {
   "cell_type": "code",
   "execution_count": 6,
   "metadata": {},
   "outputs": [
    {
     "data": {
      "text/plain": [
       "(32, 32, 3)"
      ]
     },
     "execution_count": 6,
     "metadata": {},
     "output_type": "execute_result"
    }
   ],
   "source": [
    "np.array(x_train[0]).shape# at every row there 32*32*3 matrix is available"
   ]
  },
  {
   "cell_type": "code",
   "execution_count": 10,
   "metadata": {},
   "outputs": [
    {
     "data": {
      "text/plain": [
       "(32, 3)"
      ]
     },
     "execution_count": 10,
     "metadata": {},
     "output_type": "execute_result"
    }
   ],
   "source": [
    "np.array(x_train[0][0]).shape#at every nested row there are 32 arrays of size of 3 each"
   ]
  },
  {
   "cell_type": "code",
   "execution_count": 11,
   "metadata": {},
   "outputs": [
    {
     "data": {
      "text/plain": [
       "array([[ 59,  62,  63],\n",
       "       [ 43,  46,  45],\n",
       "       [ 50,  48,  43],\n",
       "       [ 68,  54,  42],\n",
       "       [ 98,  73,  52],\n",
       "       [119,  91,  63],\n",
       "       [139, 107,  75],\n",
       "       [145, 110,  80],\n",
       "       [149, 117,  89],\n",
       "       [149, 120,  93],\n",
       "       [131, 103,  77],\n",
       "       [125,  99,  76],\n",
       "       [142, 115,  91],\n",
       "       [144, 112,  86],\n",
       "       [137, 105,  79],\n",
       "       [129,  97,  71],\n",
       "       [137, 106,  79],\n",
       "       [134, 106,  76],\n",
       "       [124,  97,  64],\n",
       "       [139, 113,  78],\n",
       "       [139, 112,  75],\n",
       "       [133, 105,  69],\n",
       "       [136, 105,  74],\n",
       "       [139, 108,  77],\n",
       "       [152, 120,  89],\n",
       "       [163, 131, 100],\n",
       "       [168, 136, 108],\n",
       "       [159, 129, 102],\n",
       "       [158, 130, 104],\n",
       "       [158, 132, 108],\n",
       "       [152, 125, 102],\n",
       "       [148, 124, 103]], dtype=uint8)"
      ]
     },
     "execution_count": 11,
     "metadata": {},
     "output_type": "execute_result"
    }
   ],
   "source": [
    "np.array(x_train[0][0])"
   ]
  },
  {
   "cell_type": "markdown",
   "metadata": {},
   "source": [
    "#### We can understand 32*32*3 in such a way ( rows* columns* RGB). Our dataset is a image of 32*32 pixels where 3 represents the the value of Red , Green , Blue at that Particular Pixel"
   ]
  },
  {
   "cell_type": "code",
   "execution_count": 73,
   "metadata": {
    "collapsed": true
   },
   "outputs": [],
   "source": [
    "for i in range(len(y_train)):#just tweak the y dataset\n",
    "    \n",
    "    y_train[i]=random.randint(y_train[i]*10,y_train[i]*10+10)\n",
    "    #if y_train[i]=0 then we randomply convert it into between 0 to 10\n",
    "    #if y_train[i]=1 then we randomply convert it into between 10 to 20\n",
    "    #if y_train[i]=2 then we randomply convert it into between 20 to 30 and so on."
   ]
  },
  {
   "cell_type": "code",
   "execution_count": 12,
   "metadata": {},
   "outputs": [
    {
     "name": "stdout",
     "output_type": "stream",
     "text": [
      "[[6]\n",
      " [9]\n",
      " [9]\n",
      " ...\n",
      " [9]\n",
      " [1]\n",
      " [1]]\n"
     ]
    }
   ],
   "source": [
    "print(y_train)#lets check out our data"
   ]
  },
  {
   "cell_type": "code",
   "execution_count": 13,
   "metadata": {
    "collapsed": true
   },
   "outputs": [],
   "source": [
    "#Now we are going to tweak x_train data and convert it into 50000*3072,   3072=32*32*3\n",
    "x_train_tweaked=[]\n",
    "for i in range(len(x_train)):\n",
    "    x_train_tweaked.append(np.ndarray.flatten(x_train[i]))"
   ]
  },
  {
   "cell_type": "code",
   "execution_count": 14,
   "metadata": {
    "collapsed": true
   },
   "outputs": [],
   "source": [
    "x_train=np.array(x_train_tweaked)#covert it into array"
   ]
  },
  {
   "cell_type": "code",
   "execution_count": 15,
   "metadata": {},
   "outputs": [
    {
     "data": {
      "text/plain": [
       "(50000, 3072)"
      ]
     },
     "execution_count": 15,
     "metadata": {},
     "output_type": "execute_result"
    }
   ],
   "source": [
    "x_train.shape"
   ]
  },
  {
   "cell_type": "code",
   "execution_count": 16,
   "metadata": {
    "collapsed": true
   },
   "outputs": [],
   "source": [
    "x_train=x_train/x_train.max()#applying maximum value normalization"
   ]
  },
  {
   "cell_type": "code",
   "execution_count": 17,
   "metadata": {},
   "outputs": [
    {
     "name": "stdout",
     "output_type": "stream",
     "text": [
      "[[0.66666667 1.         1.         ... 1.         0.11111111 0.11111111]]\n"
     ]
    }
   ],
   "source": [
    "#here we reshape our target variable (y_train) so that it is easily to perform various matrix operations\n",
    "y_train=np.array(y_train)\n",
    "y_train=np.reshape(y_train,[1,len(y_train)])\n",
    "y_train=y_train/y_train.max()\n",
    "print(y_train)"
   ]
  },
  {
   "cell_type": "code",
   "execution_count": 18,
   "metadata": {
    "collapsed": true
   },
   "outputs": [],
   "source": [
    "def line(m,x,c):#eqation of line y=M1X1+M2X2+...+MnXn+c\n",
    "    return np.dot(m,x.T)+c\n",
    "def error(m,x,c,y):#now we are going to make error function ==>mean squared error\n",
    "    return np.mean((line(m,x,c)-y)**2)\n",
    "def derivative_slope(m,x,c,y):#now we are going to make derivative funtion for slope\n",
    "    return 2*np.mean(np.multiply((line(m,x,c)-y),x.T),axis=1)\n",
    "def derivative_inter(m,x,c,y):#now we are going to make derative function for intercept\n",
    "    return 2*np.mean(line(m,x,c)-y)\n",
    "def accuracy(error,y):\n",
    "    return 100- (error/np.mean(y**2))*100"
   ]
  },
  {
   "cell_type": "code",
   "execution_count": 20,
   "metadata": {},
   "outputs": [
    {
     "name": "stdout",
     "output_type": "stream",
     "text": [
      "99   Current error--> inf    Current Accuracy---> -inf\n"
     ]
    }
   ],
   "source": [
    "#now lets check out our good work\n",
    "m=np.random.randn(1,3072)#randomly initialize value of m with the help of normal distribution\n",
    "c=random.random()#take any random number as c\n",
    "alpha=0.1#learning rate\n",
    "cost=[]\n",
    "for i in range(0,100):\n",
    "    \n",
    "    cost.append(error(m,x_train,c,y_train))#append current error in cost, just to plot and visualize it\n",
    "    m=m-alpha*(derivative_slope(m,x_train,c,y_train)).T#m=m-learning_rate*d(error)/d(m)\n",
    "    c=c-alpha*derivative_inter(m,x_train,c,y_train)#c=c-learning_rate*d(error)/d(c)\n",
    "    clear_output(True)#just to remove the previous printed output from the display\n",
    "    print(i,'  Current error-->',error(m,x_train,c,y_train),\"  \",'Current Accuracy--->', accuracy(error(m,x_train,c,y_train),y_train))"
   ]
  },
  {
   "cell_type": "code",
   "execution_count": 21,
   "metadata": {},
   "outputs": [
    {
     "data": {
      "text/plain": [
       "Text(0.5,1,'alpha=0.1')"
      ]
     },
     "execution_count": 21,
     "metadata": {},
     "output_type": "execute_result"
    },
    {
     "data": {
      "image/png": "[encoded data removed]",
      "text/plain": [
       "<Figure size 432x288 with 1 Axes>"
      ]
     },
     "metadata": {},
     "output_type": "display_data"
    }
   ],
   "source": [
    "plt.plot(cost)\n",
    "plt.xlabel(\"number of iterations\")\n",
    "plt.ylabel(\"error\")\n",
    "plt.title(\"alpha=0.1\")"
   ]
  },
  {
   "cell_type": "code",
   "execution_count": null,
   "metadata": {
    "collapsed": true
   },
   "outputs": [],
   "source": []
  }
 ],
 "metadata": {
  "kernelspec": {
   "display_name": "Python 3",
   "language": "python",
   "name": "python3"
  },
  "language_info": {
   "codemirror_mode": {
    "name": "ipython",
    "version": 3
   },
   "file_extension": ".py",
   "mimetype": "text/x-python",
   "name": "python",
   "nbconvert_exporter": "python",
   "pygments_lexer": "ipython3",
   "version": "3.6.3"
  }
 },
 "nbformat": 4,
 "nbformat_minor": 2
}
